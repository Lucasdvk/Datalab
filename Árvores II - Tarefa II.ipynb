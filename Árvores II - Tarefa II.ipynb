{
 "cells": [
  {
   "cell_type": "markdown",
   "metadata": {},
   "source": [
    "# Árvores II - Tarefa 2"
   ]
  },
  {
   "cell_type": "markdown",
   "metadata": {},
   "source": [
    "### 1. Carregar as bases\n",
    "\n",
    "Vamos carregar as bases lidas na tarefa passada. Se você salvou essas bases em arquivo texto, basta fazer a leitura com o comando ```pd.read_csv``` das seguintes bases:\n",
    "\n",
    "- X_train\n",
    "- Y_train\n",
    "- X_test\n",
    "- Y_test\n",
    "\n",
    "Não se esqueça de considerar a leitura dos índices dos arquivos no ```read_csv()```!"
   ]
  },
  {
   "cell_type": "code",
   "execution_count": null,
   "metadata": {},
   "outputs": [],
   "source": [
    "import pandas as pd\n",
    "import seaborn as sns\n",
    "import matplotlib.pyplot as plt\n",
    "import numpy as np\n",
    "from sklearn.tree import DecisionTreeClassifier\n",
    "from sklearn.model_selection import train_test_split\n",
    "from sklearn.metrics import plot_confusion_matrix"
   ]
  },
  {
   "cell_type": "markdown",
   "metadata": {},
   "source": [
    "### 2. Divisão da base em Treino, Validação e Teste\n",
    "\n",
    "A base já se encontra dividida em Treino e Validação. O que vamos fazer então é extrair uma base de Validação da base de Treino.\n",
    "\n",
    "Extraia 25% da base de treino como base de validação."
   ]
  },
  {
   "cell_type": "code",
   "execution_count": null,
   "metadata": {},
   "outputs": [],
   "source": [
    "# Carregar os dados de treinamento e teste\n",
    "X_train = pd.read_csv('X_train.txt', index_col=0)\n",
    "y_train = pd.read_csv('y_train.txt', index_col=0)\n",
    "X_test = pd.read_csv('X_test.txt', index_col=0)\n",
    "y_test = pd.read_csv('y_test.txt', index_col=0)\n",
    "\n",
    "# Dividir a base de treinamento em treino e validação (75% treino, 25% validação)\n",
    "X_train, X_val, y_train, y_val = train_test_split(X_train, y_train, test_size=0.25, random_state=42)\n",
    "\n",
    "# Verificar o tamanho dos conjuntos de dados resultantes\n",
    "print(\"Tamanho do conjunto de treinamento:\", X_train.shape)\n",
    "print(\"Tamanho do conjunto de validação:\", X_val.shape)\n",
    "print(\"Tamanho do conjunto de teste:\", X_test.shape)"
   ]
  },
  {
   "cell_type": "markdown",
   "metadata": {},
   "source": [
    "### 3. Melhores 3 variáveis\n",
    "\n",
    "Rode uma árvore com profundidade máxima igual a 4 para prever a atividade humana com todas as variáveis.\n",
    "Observe a importância das variáveis e considere as 3 variáveis com maior importância para os próximos passos.\n",
    "Dica: utilize o atributo ```clf.feature_importances_``` da árvore treinada."
   ]
  },
  {
   "cell_type": "code",
   "execution_count": null,
   "metadata": {},
   "outputs": [],
   "source": [
    "# Inicializar e treinar a árvore de decisão\n",
    "clf = DecisionTreeClassifier(max_depth=4, random_state=42)\n",
    "clf.fit(X_train, y_train)\n",
    "\n",
    "# Obter a importância das variáveis\n",
    "importances = clf.feature_importances_\n",
    "\n",
    "# Criar um DataFrame com as importâncias das variáveis\n",
    "importance_df = pd.DataFrame({'Feature': X_train.columns, 'Importance': importances})\n",
    "importance_df = importance_df.sort_values(by='Importance', ascending=False)\n",
    "\n",
    "# Selecionar as três variáveis mais importantes\n",
    "top_3_variables = importance_df.head(3)['Feature'].tolist()\n",
    "\n",
    "print(\"As três variáveis mais importantes são:\", top_3_variables)"
   ]
  },
  {
   "cell_type": "markdown",
   "metadata": {},
   "source": [
    "### 4. Construa uma árvore com as 3 melhores variáveis\n",
    "\n",
    "Utilizando as três variáveis encontradas acima, construa uma árvore de decisão. Encontre o melhor ```ccp_alpha``` utilizando a base de validação, conforme a estrutura que vimos em aula."
   ]
  },
  {
   "cell_type": "code",
   "execution_count": null,
   "metadata": {},
   "outputs": [],
   "source": [
    "%%time\n",
    "from sklearn.tree import DecisionTreeClassifier\n",
    "from sklearn.metrics import accuracy_score\n",
    "\n",
    "# Selecionar apenas as três melhores variáveis\n",
    "X_train_top3 = X_train[top_3_variables]\n",
    "X_val_top3 = X_val[top_3_variables]\n",
    "\n",
    "# Inicializar uma lista para armazenar as árvores de decisão\n",
    "trees = []\n",
    "\n",
    "# Range de valores de ccp_alpha para avaliar\n",
    "ccp_alphas = np.linspace(0, 0.1, 10)\n",
    "\n",
    "# Treinar uma árvore de decisão para cada valor de ccp_alpha\n",
    "for ccp_alpha in ccp_alphas:\n",
    "    # Inicializar e treinar a árvore de decisão\n",
    "    tree = DecisionTreeClassifier(max_depth=4, ccp_alpha=ccp_alpha, random_state=42)\n",
    "    tree.fit(X_train_top3, y_train)\n",
    "    trees.append(tree)\n",
    "\n",
    "# Avaliar o desempenho de cada árvore na base de validação\n",
    "validation_accuracies = []\n",
    "for tree in trees:\n",
    "    y_val_pred = tree.predict(X_val_top3)\n",
    "    accuracy = accuracy_score(y_val, y_val_pred)\n",
    "    validation_accuracies.append(accuracy)\n",
    "\n",
    "# Encontrar o índice do melhor valor de ccp_alpha\n",
    "best_alpha_index = np.argmax(validation_accuracies)\n",
    "best_alpha = ccp_alphas[best_alpha_index]\n",
    "\n",
    "print(\"Melhor ccp_alpha encontrado:\", best_alpha)\n"
   ]
  },
  {
   "cell_type": "markdown",
   "metadata": {},
   "source": [
    "### 5. Avaliação do modelo\n",
    "\n",
    "Avalie a árvore encontrada no item anterior na base de testes."
   ]
  },
  {
   "cell_type": "code",
   "execution_count": null,
   "metadata": {},
   "outputs": [],
   "source": [
    "from sklearn.metrics import accuracy_score, confusion_matrix\n",
    "\n",
    "# Selecionar apenas as três melhores variáveis na base de testes\n",
    "X_test_top3 = X_test[top_3_variables]\n",
    "\n",
    "# Inicializar e treinar a árvore de decisão com o melhor ccp_alpha encontrado\n",
    "best_tree = DecisionTreeClassifier(max_depth=4, ccp_alpha=best_alpha, random_state=42)\n",
    "best_tree.fit(X_train_top3, y_train)\n",
    "\n",
    "# Fazer previsões na base de testes\n",
    "y_test_pred = best_tree.predict(X_test_top3)\n",
    "\n",
    "# Avaliar o desempenho da árvore na base de testes\n",
    "accuracy = accuracy_score(y_test, y_test_pred)\n",
    "conf_matrix = confusion_matrix(y_test, y_test_pred)\n",
    "\n",
    "print(\"Acurácia na base de testes:\", accuracy)\n",
    "print(\"Matriz de Confusão:\")\n",
    "print(conf_matrix)"
   ]
  }
 ],
 "metadata": {
  "kernelspec": {
   "display_name": "Python 3 (ipykernel)",
   "language": "python",
   "name": "python3"
  },
  "language_info": {
   "codemirror_mode": {
    "name": "ipython",
    "version": 3
   },
   "file_extension": ".py",
   "mimetype": "text/x-python",
   "name": "python",
   "nbconvert_exporter": "python",
   "pygments_lexer": "ipython3",
   "version": "3.11.5"
  }
 },
 "nbformat": 4,
 "nbformat_minor": 4
}
