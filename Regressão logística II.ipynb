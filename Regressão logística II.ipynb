{
 "cells": [
  {
   "cell_type": "markdown",
   "metadata": {},
   "source": [
    "# Regressão Logística I\n",
    "## Tarefa II\n",
    "\n",
    "Vamos trabalhar com a mesma base do exercício anterior, mas vamos aprofundar um pouco mais a nossa regressão."
   ]
  },
  {
   "cell_type": "code",
   "execution_count": 1,
   "metadata": {},
   "outputs": [],
   "source": [
    "import pandas as pd\n",
    "import seaborn as sns\n",
    "import matplotlib.pyplot as plt\n",
    "import numpy as np\n",
    "\n",
    "import statsmodels.formula.api as smf"
   ]
  },
  {
   "cell_type": "code",
   "execution_count": 2,
   "metadata": {
    "tags": []
   },
   "outputs": [
    {
     "data": {
      "text/html": [
       "<div>\n",
       "<style scoped>\n",
       "    .dataframe tbody tr th:only-of-type {\n",
       "        vertical-align: middle;\n",
       "    }\n",
       "\n",
       "    .dataframe tbody tr th {\n",
       "        vertical-align: top;\n",
       "    }\n",
       "\n",
       "    .dataframe thead th {\n",
       "        text-align: right;\n",
       "    }\n",
       "</style>\n",
       "<table border=\"1\" class=\"dataframe\">\n",
       "  <thead>\n",
       "    <tr style=\"text-align: right;\">\n",
       "      <th></th>\n",
       "      <th>age</th>\n",
       "      <th>sex</th>\n",
       "      <th>cp</th>\n",
       "      <th>trestbps</th>\n",
       "      <th>chol</th>\n",
       "      <th>fbs</th>\n",
       "      <th>restecg</th>\n",
       "      <th>thalach</th>\n",
       "      <th>exang</th>\n",
       "      <th>oldpeak</th>\n",
       "      <th>slope</th>\n",
       "      <th>ca</th>\n",
       "      <th>thal</th>\n",
       "      <th>num</th>\n",
       "      <th>flag_doente</th>\n",
       "    </tr>\n",
       "  </thead>\n",
       "  <tbody>\n",
       "    <tr>\n",
       "      <th>0</th>\n",
       "      <td>63.0</td>\n",
       "      <td>1.0</td>\n",
       "      <td>1.0</td>\n",
       "      <td>145.0</td>\n",
       "      <td>233.0</td>\n",
       "      <td>1.0</td>\n",
       "      <td>2.0</td>\n",
       "      <td>150.0</td>\n",
       "      <td>0.0</td>\n",
       "      <td>2.3</td>\n",
       "      <td>3.0</td>\n",
       "      <td>0.0</td>\n",
       "      <td>6.0</td>\n",
       "      <td>0</td>\n",
       "      <td>0</td>\n",
       "    </tr>\n",
       "    <tr>\n",
       "      <th>1</th>\n",
       "      <td>67.0</td>\n",
       "      <td>1.0</td>\n",
       "      <td>4.0</td>\n",
       "      <td>160.0</td>\n",
       "      <td>286.0</td>\n",
       "      <td>0.0</td>\n",
       "      <td>2.0</td>\n",
       "      <td>108.0</td>\n",
       "      <td>1.0</td>\n",
       "      <td>1.5</td>\n",
       "      <td>2.0</td>\n",
       "      <td>3.0</td>\n",
       "      <td>3.0</td>\n",
       "      <td>2</td>\n",
       "      <td>1</td>\n",
       "    </tr>\n",
       "    <tr>\n",
       "      <th>2</th>\n",
       "      <td>67.0</td>\n",
       "      <td>1.0</td>\n",
       "      <td>4.0</td>\n",
       "      <td>120.0</td>\n",
       "      <td>229.0</td>\n",
       "      <td>0.0</td>\n",
       "      <td>2.0</td>\n",
       "      <td>129.0</td>\n",
       "      <td>1.0</td>\n",
       "      <td>2.6</td>\n",
       "      <td>2.0</td>\n",
       "      <td>2.0</td>\n",
       "      <td>7.0</td>\n",
       "      <td>1</td>\n",
       "      <td>1</td>\n",
       "    </tr>\n",
       "    <tr>\n",
       "      <th>3</th>\n",
       "      <td>37.0</td>\n",
       "      <td>1.0</td>\n",
       "      <td>3.0</td>\n",
       "      <td>130.0</td>\n",
       "      <td>250.0</td>\n",
       "      <td>0.0</td>\n",
       "      <td>0.0</td>\n",
       "      <td>187.0</td>\n",
       "      <td>0.0</td>\n",
       "      <td>3.5</td>\n",
       "      <td>3.0</td>\n",
       "      <td>0.0</td>\n",
       "      <td>3.0</td>\n",
       "      <td>0</td>\n",
       "      <td>0</td>\n",
       "    </tr>\n",
       "    <tr>\n",
       "      <th>4</th>\n",
       "      <td>41.0</td>\n",
       "      <td>0.0</td>\n",
       "      <td>2.0</td>\n",
       "      <td>130.0</td>\n",
       "      <td>204.0</td>\n",
       "      <td>0.0</td>\n",
       "      <td>2.0</td>\n",
       "      <td>172.0</td>\n",
       "      <td>0.0</td>\n",
       "      <td>1.4</td>\n",
       "      <td>1.0</td>\n",
       "      <td>0.0</td>\n",
       "      <td>3.0</td>\n",
       "      <td>0</td>\n",
       "      <td>0</td>\n",
       "    </tr>\n",
       "  </tbody>\n",
       "</table>\n",
       "</div>"
      ],
      "text/plain": [
       "    age  sex   cp  trestbps   chol  fbs  restecg  thalach  exang  oldpeak  \\\n",
       "0  63.0  1.0  1.0     145.0  233.0  1.0      2.0    150.0    0.0      2.3   \n",
       "1  67.0  1.0  4.0     160.0  286.0  0.0      2.0    108.0    1.0      1.5   \n",
       "2  67.0  1.0  4.0     120.0  229.0  0.0      2.0    129.0    1.0      2.6   \n",
       "3  37.0  1.0  3.0     130.0  250.0  0.0      0.0    187.0    0.0      3.5   \n",
       "4  41.0  0.0  2.0     130.0  204.0  0.0      2.0    172.0    0.0      1.4   \n",
       "\n",
       "   slope   ca thal  num  flag_doente  \n",
       "0    3.0  0.0  6.0    0            0  \n",
       "1    2.0  3.0  3.0    2            1  \n",
       "2    2.0  2.0  7.0    1            1  \n",
       "3    3.0  0.0  3.0    0            0  \n",
       "4    1.0  0.0  3.0    0            0  "
      ]
     },
     "execution_count": 2,
     "metadata": {},
     "output_type": "execute_result"
    }
   ],
   "source": [
    "url = 'https://archive.ics.uci.edu/ml/machine-learning-databases/heart-disease/processed.cleveland.data'\n",
    "\n",
    "df = pd.read_csv(url, \n",
    "                 names=['age', 'sex', 'cp', 'trestbps', 'chol', 'fbs', 'restecg',\n",
    "                        'thalach', 'exang', 'oldpeak', 'slope', 'ca', 'thal', 'num'])\n",
    "df['flag_doente'] = (df['num']!=0).astype('int64')\n",
    "df.head()"
   ]
  },
  {
   "cell_type": "markdown",
   "metadata": {},
   "source": [
    "A descrição das variáveis está recortada abaixo:\n",
    "- age: idade do paciente em anos\n",
    "- sex: sexo (1 = male; 0 = female)  \n",
    "- cp: tipo de dor no peito\n",
    "  - 1: angina típica\n",
    "  - 2: angina atípica\n",
    "  - 3: dor não-angina\n",
    "  - 4: assintomático\n",
    "- trestbps: pressão sanguínea em repouso (em mm Hg na admissão ao hospital\n",
    "- chol: colesterol sérico em mg/dl\n",
    "- fbs: (açúcar no sangue em jejum > 120 mg/dl) (1 = True; 0 = False)\n",
    "- restecg: resultados eletrocardiográficos em repouso\n",
    "  - 0: normal\n",
    "  - 1: tendo anormalidade da onda ST-T (Inversões de onda T e / ou ST com elevação ou depressão de > 0.05 mV)\n",
    "  - 2: mostrando hipertrofia ventricular esquerda provável ou definitiva pelos critérios de Estes\n",
    "- thalach: frequência cardíaca máxima alcançada\n",
    "- exang: angina induzida por exercício(1 = sim; 0 = não)\n",
    "- oldpeak = Depressão de ST induzida por exercício em relação ao repouso\n",
    "- slope: Depressão de ST induzida por exercício em relação ao repouso\n",
    "  - 1: inclinação ascendente\n",
    "  - 2: estável\n",
    "  - 3: inclinação descendente\n",
    "- ca: número de vasos principais (0-3) coloridos por fluorosopia\n",
    "- thal: 3 = normal; 6 = defeito corrigido; 7 = defeito reversível\n",
    "- num: diagnóstico de doença cardíaga (status de doença angiográfica)"
   ]
  },
  {
   "cell_type": "code",
   "execution_count": null,
   "metadata": {},
   "outputs": [],
   "source": [
    "df.info()"
   ]
  },
  {
   "cell_type": "markdown",
   "metadata": {},
   "source": [
    "1. Considere o script que monta a análise bivariada que você fez na tarefa anterior. Transforme esse script em uma função, que deve:\n",
    "- Ter como parâmetros de entrada:\n",
    "    - Um *dataframe* contendo os dados a serem avaliados\n",
    "    - Um *string* contendo o nome da variável resposta\n",
    "    - Um *string* contendo o nome da variável explicativa\n",
    "- E deve retornar um *dataframe* com os dados da bivariada. \n",
    "**Monte** a mesma bivariada pelo menos três variáveis qualitativas do *data-frame*. Qual delas parece discriminar mais o risco?"
   ]
  },
  {
   "cell_type": "code",
   "execution_count": 15,
   "metadata": {},
   "outputs": [
    {
     "name": "stdout",
     "output_type": "stream",
     "text": [
      "   sex  N_saudaveis  N_doentes  Total  Proporcao_doentes\n",
      "0  0.0           72         25     97           0.257732\n",
      "1  1.0           92        114    206           0.553398\n",
      "    cp  N_saudaveis  N_doentes  Total  Proporcao_doentes\n",
      "0  1.0           16          7     23           0.304348\n",
      "1  2.0           41          9     50           0.180000\n",
      "2  3.0           68         18     86           0.209302\n",
      "3  4.0           39        105    144           0.729167\n",
      "   fbs  N_saudaveis  N_doentes  Total  Proporcao_doentes\n",
      "0  0.0          141        117    258           0.453488\n",
      "1  1.0           23         22     45           0.488889\n"
     ]
    }
   ],
   "source": [
    "def bivariada(df, variavel_resposta, variavel_explicativa):\n",
    "    # Calculando número de saudáveis, número de doentes e total para cada categoria da variável explicativa\n",
    "    bivariada_data = df.groupby(variavel_explicativa).agg(\n",
    "        N_saudaveis=('flag_doente', lambda x: (x == 0).sum()),\n",
    "        N_doentes=('flag_doente', lambda x: (x == 1).sum()),\n",
    "        Total=('flag_doente', 'count')\n",
    "    ).reset_index()\n",
    "    \n",
    "    # Calculando a proporção de doentes em relação ao total para cada categoria da variável explicativa\n",
    "    bivariada_data['Proporcao_doentes'] = bivariada_data['N_doentes'] / bivariada_data['Total']\n",
    "    \n",
    "    return bivariada_data\n",
    "\n",
    "# Exemplo de uso da função para a variável 'sex' (sexo)\n",
    "resultado_bivariada_sex = bivariada(df, 'flag_doente', 'sex')\n",
    "print(resultado_bivariada_sex)\n",
    "\n",
    "# Exemplo de uso da função para a variável 'cp' (tipo de dor no peito)\n",
    "resultado_bivariada_cp = bivariada(df, 'flag_doente', 'cp')\n",
    "print(resultado_bivariada_cp)\n",
    "\n",
    "# Exemplo de uso da função para a variável 'fbs' (açúcar no sangue em jejum)\n",
    "resultado_bivariada_fbs = bivariada(df, 'flag_doente', 'fbs')\n",
    "print(resultado_bivariada_fbs)\n",
    "\n",
    "\n"
   ]
  },
  {
   "cell_type": "markdown",
   "metadata": {},
   "source": [
    "2. Monte uma função semelhante para categorizar variáveis quantitativas contínuas (com muitas categorias) como ```age```.  \n",
    "    Além dos mesmos parâmetros da função anterior, defina mais um parâmetro como número de categorias que você deseja quebrar. Defina um valor '*default*' de 5 grupos para este parâmetro.  "
   ]
  },
  {
   "cell_type": "code",
   "execution_count": 21,
   "metadata": {},
   "outputs": [
    {
     "name": "stdout",
     "output_type": "stream",
     "text": [
      "  Categoria  N_saudaveis  N_doentes  Total  Proporcao_doentes\n",
      "0   Grupo_1           47         16     63           0.253968\n",
      "1   Grupo_2           42         22     64           0.343750\n",
      "2   Grupo_3           32         39     71           0.549296\n",
      "3   Grupo_4           13         32     45           0.711111\n",
      "4   Grupo_5           30         30     60           0.500000\n"
     ]
    },
    {
     "name": "stderr",
     "output_type": "stream",
     "text": [
      "C:\\Users\\Cliente\\AppData\\Local\\Temp\\ipykernel_672\\2369187240.py:15: FutureWarning: The default of observed=False is deprecated and will be changed to True in a future version of pandas. Pass observed=False to retain current behavior or observed=True to adopt the future default and silence this warning.\n",
      "  bivariada_data = df.groupby('Categoria').agg(\n"
     ]
    }
   ],
   "source": [
    "import pandas as pd\n",
    "import numpy as np\n",
    "\n",
    "def categorizar_variavel_quantitativa(df, variavel_resposta, variavel_explicativa, num_categorias=5):\n",
    "    # Criando os rótulos para as categorias\n",
    "    categorias_labels = [f'Grupo_{i+1}' for i in range(num_categorias)]\n",
    "    \n",
    "    # Criando os intervalos para categorização\n",
    "    intervalos = pd.qcut(df[variavel_explicativa], q=num_categorias, labels=categorias_labels, duplicates='drop')\n",
    "    \n",
    "    # Adicionando os intervalos ao dataframe\n",
    "    df['Categoria'] = intervalos\n",
    "    \n",
    "    # Calculando o número de saudáveis, número de doentes e total para cada categoria da variável explicativa\n",
    "    bivariada_data = df.groupby('Categoria').agg(\n",
    "        N_saudaveis=('flag_doente', lambda x: (x == 0).sum()),\n",
    "        N_doentes=('flag_doente', lambda x: (x == 1).sum()),\n",
    "        Total=('flag_doente', 'count')\n",
    "    ).reset_index()\n",
    "    \n",
    "    # Calculando a proporção de doentes em relação ao total para cada categoria da variável explicativa\n",
    "    bivariada_data['Proporcao_doentes'] = bivariada_data['N_doentes'] / bivariada_data['Total']\n",
    "    \n",
    "    return bivariada_data\n",
    "\n",
    "# Exemplo de uso da função para a variável 'age' (idade)\n",
    "resultado_bivariada_age = categorizar_variavel_quantitativa(df, 'flag_doente', 'age', num_categorias=5)\n",
    "print(resultado_bivariada_age)\n"
   ]
  },
  {
   "cell_type": "markdown",
   "metadata": {},
   "source": [
    "3. Construa um modelo de regressão logística com as variáveis qualitativas: ```sex + cp +  trestbps``` e com a variável quantitativa ```age```.\n",
    "\n",
    "**Interprete os parâmetros.**"
   ]
  },
  {
   "cell_type": "code",
   "execution_count": 22,
   "metadata": {},
   "outputs": [
    {
     "name": "stdout",
     "output_type": "stream",
     "text": [
      "Acurácia do modelo: 0.5081967213114754\n",
      "              precision    recall  f1-score   support\n",
      "\n",
      "           0       0.49      0.72      0.58        29\n",
      "           1       0.56      0.31      0.40        32\n",
      "\n",
      "    accuracy                           0.51        61\n",
      "   macro avg       0.52      0.52      0.49        61\n",
      "weighted avg       0.52      0.51      0.49        61\n",
      "\n"
     ]
    }
   ],
   "source": [
    "from sklearn.model_selection import train_test_split\n",
    "from sklearn.linear_model import LogisticRegression\n",
    "from sklearn.preprocessing import StandardScaler\n",
    "from sklearn.compose import ColumnTransformer\n",
    "from sklearn.pipeline import Pipeline\n",
    "from sklearn.metrics import accuracy_score, classification_report\n",
    "\n",
    "# 1. Preparar os dados\n",
    "# Selecionar as variáveis relevantes\n",
    "X = df[['sex', 'cp', 'age', 'trestbps']]\n",
    "y = df['flag_doente']\n",
    "\n",
    "# Dividir o conjunto de dados em treino e teste\n",
    "X_train, X_test, y_train, y_test = train_test_split(X, y, test_size=0.2, random_state=42)\n",
    "\n",
    "# 2. Construir o pipeline do modelo\n",
    "# Escalonar as variáveis numéricas e aplicar regressão logística\n",
    "numeric_features = ['age', 'trestbps']\n",
    "numeric_transformer = Pipeline(steps=[\n",
    "    ('scaler', StandardScaler())\n",
    "])\n",
    "\n",
    "preprocessor = ColumnTransformer(\n",
    "    transformers=[\n",
    "        ('num', numeric_transformer, numeric_features)\n",
    "    ]\n",
    ")\n",
    "\n",
    "model = Pipeline(steps=[\n",
    "    ('preprocessor', preprocessor),\n",
    "    ('classifier', LogisticRegression())\n",
    "])\n",
    "\n",
    "# 3. Treinar o modelo\n",
    "model.fit(X_train, y_train)\n",
    "\n",
    "# 4. Avaliar o modelo\n",
    "# Prever os rótulos das classes no conjunto de teste\n",
    "y_pred = model.predict(X_test)\n",
    "\n",
    "# Calcular a acurácia do modelo\n",
    "accuracy = accuracy_score(y_test, y_pred)\n",
    "print(\"Acurácia do modelo:\", accuracy)\n",
    "\n",
    "# Mostrar um relatório de classificação\n",
    "print(classification_report(y_test, y_pred))\n"
   ]
  },
  {
   "cell_type": "markdown",
   "metadata": {},
   "source": [
    "4. Avalie o seu modelo quanto a **calibragem**:\n",
    "- Calcule a probabilidade de evento predita segundo o seu modelo\n",
    "- Categorize essa probabilidade em G=5 grupos\n",
    "- Calcule a probabilidade de evento predita média por grupo\n",
    "- Calcule a taxa de eventos (média da variável indicadora de eventos) por grupo\n",
    "- Compare graficamente o valor eperado versus observado para a taxa de maus por grupo"
   ]
  },
  {
   "cell_type": "code",
   "execution_count": 23,
   "metadata": {},
   "outputs": [
    {
     "name": "stderr",
     "output_type": "stream",
     "text": [
      "C:\\Users\\Cliente\\AppData\\Local\\Temp\\ipykernel_672\\3666444859.py:12: RuntimeWarning: Mean of empty slice.\n",
      "  prob_mean = [y_prob[groups == i].mean() for i in range(1, 6)]\n",
      "C:\\Users\\Cliente\\anaconda3\\Lib\\site-packages\\numpy\\core\\_methods.py:129: RuntimeWarning: invalid value encountered in scalar divide\n",
      "  ret = ret.dtype.type(ret / rcount)\n"
     ]
    },
    {
     "data": {
      "image/png": "[encoded data removed]",
      "text/plain": [
       "<Figure size 1000x600 with 1 Axes>"
      ]
     },
     "metadata": {},
     "output_type": "display_data"
    }
   ],
   "source": [
    "import numpy as np\n",
    "import matplotlib.pyplot as plt\n",
    "\n",
    "# 1. Calcular a probabilidade de evento predita segundo o modelo\n",
    "y_prob = model.predict_proba(X_test)[:, 1]\n",
    "\n",
    "# 2. Categorizar essa probabilidade em 5 grupos (G = 5)\n",
    "bins = np.linspace(0, 1, 6)\n",
    "groups = np.digitize(y_prob, bins)\n",
    "\n",
    "# 3. Calcular a probabilidade de evento predita média por grupo\n",
    "prob_mean = [y_prob[groups == i].mean() for i in range(1, 6)]\n",
    "\n",
    "# 4. Calcular a taxa de eventos (média da variável indicadora de eventos) por grupo\n",
    "event_rate = [y_test.iloc[groups == i].mean() for i in range(1, 6)]\n",
    "\n",
    "# 5. Comparar graficamente o valor esperado versus observado para a taxa de maus por grupo\n",
    "plt.figure(figsize=(10, 6))\n",
    "plt.plot(prob_mean, event_rate, marker='o', linestyle='-')\n",
    "plt.xlabel('Probabilidade Preditiva Média')\n",
    "plt.ylabel('Taxa de Eventos (Probabilidade Observada)')\n",
    "plt.title('Calibração do Modelo de Regressão Logística')\n",
    "plt.grid(True)\n",
    "plt.show()"
   ]
  },
  {
   "cell_type": "markdown",
   "metadata": {},
   "source": [
    "5. Avalie o seu modelo quanto a discriminação calculando acurácia, GINI e KS."
   ]
  },
  {
   "cell_type": "code",
   "execution_count": 24,
   "metadata": {},
   "outputs": [
    {
     "name": "stdout",
     "output_type": "stream",
     "text": [
      "Acurácia do modelo: 0.5081967213114754\n",
      "Índice de Gini: 0.18318965517241392\n",
      "KS (Kolmogorov-Smirnov) Estatística: 0.19827586206896552\n",
      "KS (Kolmogorov-Smirnov) Valor-p: 0.507544725895456\n"
     ]
    }
   ],
   "source": [
    "from sklearn.metrics import accuracy_score, roc_auc_score\n",
    "\n",
    "# 1. Calcular a acurácia do modelo\n",
    "y_pred = model.predict(X_test)\n",
    "accuracy = accuracy_score(y_test, y_pred)\n",
    "print(\"Acurácia do modelo:\", accuracy)\n",
    "\n",
    "# 2. Calcular o índice de Gini\n",
    "y_prob = model.predict_proba(X_test)[:, 1]\n",
    "gini_index = 2 * roc_auc_score(y_test, y_prob) - 1\n",
    "print(\"Índice de Gini:\", gini_index)\n",
    "\n",
    "# 3. Calcular o KS (Kolmogorov-Smirnov)\n",
    "from scipy.stats import ks_2samp\n",
    "ks_statistic, ks_p_value = ks_2samp(y_prob[y_test == 0], y_prob[y_test == 1])\n",
    "print(\"KS (Kolmogorov-Smirnov) Estatística:\", ks_statistic)\n",
    "print(\"KS (Kolmogorov-Smirnov) Valor-p:\", ks_p_value)"
   ]
  },
  {
   "cell_type": "markdown",
   "metadata": {},
   "source": [
    "6. tente melhorar o modelo obtido, por exemplo inserindo ou removendo variáveis.  \n",
    "    Avalie as características do seu modelo (calibragem e acurácia)."
   ]
  },
  {
   "cell_type": "code",
   "execution_count": 29,
   "metadata": {},
   "outputs": [
    {
     "name": "stdout",
     "output_type": "stream",
     "text": [
      "Acurácia do modelo: 0.7377049180327869\n",
      "Índice de Gini: 0.4773706896551724\n",
      "KS (Kolmogorov-Smirnov) Estatística: 0.4773706896551724\n",
      "KS (Kolmogorov-Smirnov) Valor-p: nan\n"
     ]
    }
   ],
   "source": [
    "import pandas as pd\n",
    "from sklearn.model_selection import train_test_split\n",
    "from sklearn.linear_model import LogisticRegression\n",
    "from sklearn.metrics import accuracy_score, roc_auc_score\n",
    "from sklearn.preprocessing import StandardScaler\n",
    "import numpy as np\n",
    "\n",
    "# Definir as variáveis preditoras (X) e a variável de resposta (y)\n",
    "X = df[['age', 'sex', 'cp', 'trestbps']]\n",
    "y = df['flag_doente']\n",
    "\n",
    "# Dividir os dados em conjunto de treinamento e teste\n",
    "X_train, X_test, y_train, y_test = train_test_split(X, y, test_size=0.2, random_state=42)\n",
    "\n",
    "# Padronizar as variáveis preditoras (X)\n",
    "scaler = StandardScaler()\n",
    "X_train_scaled = scaler.fit_transform(X_train)\n",
    "X_test_scaled = scaler.transform(X_test)\n",
    "\n",
    "# Treinar o modelo de regressão logística\n",
    "model = LogisticRegression()\n",
    "model.fit(X_train_scaled, y_train)\n",
    "\n",
    "# Fazer previsões usando o conjunto de teste\n",
    "y_pred = model.predict(X_test_scaled)\n",
    "\n",
    "# Avaliar o desempenho do modelo\n",
    "accuracy = accuracy_score(y_test, y_pred)\n",
    "gini = 2 * roc_auc_score(y_test, y_pred) - 1\n",
    "fpr, tpr, thresholds = roc_curve(y_test, y_pred)\n",
    "ks_statistic = np.max(tpr - fpr)\n",
    "\n",
    "# Calcular KS (Kolmogorov-Smirnov) Valor-p, evitando divisão por zero\n",
    "if np.any(tpr * (1 - tpr) + fpr * (1 - fpr) == 0):\n",
    "    ks_p_value = np.nan\n",
    "else:\n",
    "    ks_p_value = ks_statistic / np.sqrt(tpr * (1 - tpr) + fpr * (1 - fpr))\n",
    "\n",
    "print(\"Acurácia do modelo:\", accuracy)\n",
    "print(\"Índice de Gini:\", gini)\n",
    "print(\"KS (Kolmogorov-Smirnov) Estatística:\", ks_statistic)\n",
    "print(\"KS (Kolmogorov-Smirnov) Valor-p:\", ks_p_value)\n",
    "\n"
   ]
  }
 ],
 "metadata": {
  "kernelspec": {
   "display_name": "Python 3 (ipykernel)",
   "language": "python",
   "name": "python3"
  },
  "language_info": {
   "codemirror_mode": {
    "name": "ipython",
    "version": 3
   },
   "file_extension": ".py",
   "mimetype": "text/x-python",
   "name": "python",
   "nbconvert_exporter": "python",
   "pygments_lexer": "ipython3",
   "version": "3.11.5"
  }
 },
 "nbformat": 4,
 "nbformat_minor": 4
}
