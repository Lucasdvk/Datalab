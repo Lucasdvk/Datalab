{
 "cells": [
  {
   "cell_type": "markdown",
   "id": "7142190d-b118-4656-8eb4-8370102990c9",
   "metadata": {},
   "source": [
    "[![ebac_logo-data_science.png](https://raw.githubusercontent.com/rhatiro/Curso_EBAC-Profissao_Cientista_de_Dados/main/ebac-course-utils/media/logo/ebac_logo-data_science.png)](https://github.com/rhatiro/Curso_EBAC-Profissao_Cientista_de_Dados)\n",
    "<!-- <img src=\"https://raw.githubusercontent.com/rhatiro/Curso_EBAC-Profissao_Cientista_de_Dados/main/ebac-course-utils/media/logo/ebac_logo-data_science.png\" alt=\"ebac_logo-data_science\"> -->\n",
    "\n",
    "---\n",
    "\n",
    "<!-- # **Profissão: Cientista de Dados** -->\n",
    "### **Módulo 20** | Markdown / Terminal | Exercício\n",
    "\n",
    "**Aluno:** [Roberto Hatiro Nishiyama](https://www.linkedin.com/in/rhatiro/)<br>\n",
    "**Data:** 5 de maio de 2023.\n",
    "\n",
    "---"
   ]
  },
  {
   "cell_type": "markdown",
   "id": "8e8f2fd4-e7be-4ae0-902a-0cbe4a8cb6c5",
   "metadata": {},
   "source": [
    "### "
   ]
  },
  {
   "cell_type": "markdown",
   "id": "0cfec4e5-bb64-47e2-8e3f-736c56e72295",
   "metadata": {
    "tags": []
   },
   "source": [
    "# Tarefa"
   ]
  },
  {
   "cell_type": "markdown",
   "id": "d6514267-9445-41d2-8eac-59337b23abf1",
   "metadata": {},
   "source": [
    "## Reescrever a imagem abaixo usando markdown e LaTeX"
   ]
  },
  {
   "cell_type": "markdown",
   "id": "3212a085-0b5e-454e-a960-54aec72e564f",
   "metadata": {},
   "source": [
    "[![Imagem de referência](https://raw.githubusercontent.com/rhatiro/Curso_EBAC-Profissao_Cientista_de_Dados/main/Mo%CC%81dulo%2020%20-%20Markdown%20%3A%20Terminal/Exerci%CC%81cio/Tarefa2.PNG \"Clique para abrir o link da imagem de referência\")](https://www.educamaisbrasil.com.br/enem/matematica/formula-de-bhaskara)"
   ]
  },
  {
   "cell_type": "markdown",
   "id": "e6fbadb0-7e99-4c4f-b0a2-25cf56bfc7fe",
   "metadata": {},
   "source": [
    "---"
   ]
  },
  {
   "cell_type": "markdown",
   "id": "a3f00859-bfb0-41e0-80fd-111ab55370a8",
   "metadata": {
    "jp-MarkdownHeadingCollapsed": true,
    "tags": []
   },
   "source": [
    "## Usando markdown e LaTeX:"
   ]
  },
  {
   "cell_type": "markdown",
   "id": "888460b5-961a-4b2e-aecb-8d286445e07a",
   "metadata": {
    "tags": []
   },
   "source": [
    "<div style=\"font-family: 'Nunito',Helvetica,Arial,sans-serif; font-size:16px\">\n",
    "    <h2 style=\"color:#2e5574\">Fórmula de Bhaskara</h2>\n",
    "    <p>A solução para uma função de segundo grau depende das suas raízes (valores de x). Como já vimos, os coeficientes precisam ser números reais e o angular diferente de zero. Sendo assim, temos a seguinte fórmula de Bhaskara:</p>\n",
    "    <br>\n",
    "    $$\n",
    "    \\huge x = \\dfrac{-b \\pm \\sqrt{b^2 -4.a.c}}{2.a}\n",
    "    $$\n",
    "    <br>\n",
    "    <p style=\"text-align:center\"><i>Fórmula de Bhaskara.</i></p>\n",
    "    <p>Para melhor compreensão o seu cálculo é dividido em duas partes: discriminante da equação e operações para determinar as raízes.</p>\n",
    "    <p><b>Discriminante</b></p>\n",
    "    <p>A figura dentro da raiz na fórmula de Bhaskara é nomeada de discriminante. Seu símbolo é a letra grega delta e apresenta a determinada fórmula:</p>\n",
    "    <br>  \n",
    "    $$\n",
    "    \\Huge \\Delta = b^2 -4.a.c\n",
    "    $$\n",
    "    <br>\n",
    "    <p style=\"text-align:center\"><i>Fórmula da discriminante.</i></p>\n",
    "\n",
    "- Se o delta for maior que zero, a equação terá dois valores reais e distintos.\n",
    "- Se o delta for igual a zero, a equação terá somente um valor real ou dois resultados iguais.\n",
    "- Se o delta for menor que zero, a equação não possuirá valores reais.\n",
    "    \n",
    "</div>"
   ]
  },
  {
   "cell_type": "markdown",
   "id": "7736bc5e-6b52-43ab-984f-9fc03b3b97f9",
   "metadata": {},
   "source": [
    "### Código:"
   ]
  },
  {
   "cell_type": "markdown",
   "id": "13fe06f4-319a-42da-b522-1407dba9cc1c",
   "metadata": {},
   "source": [
    "```markdown\n",
    "<div style=\"font-family: 'Nunito',Helvetica,Arial,sans-serif; font-size:16px; line-height: 1.6\">\r\n",
    "    <h2 style=\"color:#2e5574; margin-bottom: 10px;\">Fórmula de Bhaskara</h2>\r\n",
    "    <p>A solução para uma função de segundo grau depende das suas raízes (valores de x). Como já vimos, os coeficientes precisam ser números reais e o coeficiente angular diferente de zero. Sendo assim, temos a seguinte fórmula de Bhaskara:</p>\r\n",
    "    <div style=\"margin: 20px 0;\">\r\n",
    "        <div style=\"display: flex; align-items: center;\">\r\n",
    "            <div style=\"font-size: 28px;\">$$</div>\r\n",
    "            <div style=\"flex: 1;\">\r\n",
    "                <div style=\"font-size: 24px;\">\\(\\huge x = \\dfrac{-b \\pm \\sqrt{b^2 -4ac}}{2a}\\)</div>\r\n",
    "            </div>\r\n",
    "            <div style=\"font-size: 28px;\">$$</div>\r\n",
    "        </div>\r\n",
    "    </div>\r\n",
    "    <p style=\"text-align:center; font-style: italic;\">Fórmula de Bhaskara.</p>\r\n",
    "    <p>Para melhor compreensão, o seu cálculo é dividido em duas partes: o cálculo do discriminante da equação e as operações para determinar as raízes.</p>\r\n",
    "    <h3 style=\"margin-top: 20px; color:#2e5574;\">Discriminante</h3>\r\n",
    "    <p>A figura dentro da raiz na fórmula de Bhaskara é nomeada de discriminante. Seu símbolo é a letra grega delta e é determinado pela seguinte fórmula:</p>\r\n",
    "    <div style=\"margin: 20px 0;\">\r\n",
    "        <div style=\"display: flex; align-items: center;\">\r\n",
    "            <div style=\"font-size: 28px;\">$$</div>\r\n",
    "            <div style=\"flex: 1;\">\r\n",
    "                <div style=\"font-size: 24px;\">\\(\\Huge \\Delta = b^2 - 4ac\\)</div>\r\n",
    "            </div>\r\n",
    "            <div style=\"font-size: 28px;\">$$</div>\r\n",
    "        </div>\r\n",
    "    </div>\r\n",
    "    <p style=\"text-align:center; font-style: italic;\">Fórmula do discriminante.</p>\r\n",
    "    <ul style=\"margin-top: 20px;\">\r\n",
    "        <li>Se o \\(\\Delta\\) for maior que zero, a equação terá duas raízes reais e distintas.</li>\r\n",
    "        <li>Se o \\(\\Delta\\) for igual a zero, a equação terá somente uma raiz real ou duas raízes iguais.</li>\r\n",
    "        <li>Se o \\(\\Delta\\) for menor que zero, a equação não terá raízes reais.</li>\r\n",
    "    </ul>\r\n",
    "</div>\r\n",
    "\n",
    "```"
   ]
  },
  {
   "cell_type": "markdown",
   "id": "288d7e35-244c-4353-b5a0-fd9de91359ec",
   "metadata": {},
   "source": [
    "---"
   ]
  }
 ],
 "metadata": {
  "kernelspec": {
   "display_name": "Python 3 (ipykernel)",
   "language": "python",
   "name": "python3"
  },
  "language_info": {
   "codemirror_mode": {
    "name": "ipython",
    "version": 3
   },
   "file_extension": ".py",
   "mimetype": "text/x-python",
   "name": "python",
   "nbconvert_exporter": "python",
   "pygments_lexer": "ipython3",
   "version": "3.11.5"
  }
 },
 "nbformat": 4,
 "nbformat_minor": 5
}
