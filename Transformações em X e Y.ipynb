{
 "cells": [
  {
   "cell_type": "markdown",
   "metadata": {},
   "source": [
    "# Regressão 01 - tarefa 02 - transformações em X e Y"
   ]
  },
  {
   "cell_type": "markdown",
   "metadata": {},
   "source": [
    "### 1. Melhorando o ajuste no percentual de gorjetas\n",
    "\n",
    "a. Vamos partir do modelo feito na última tarefa, o que relaciona ```tip_pct``` e ```net_bill```. Carregue a base, os pacotes e reproduza este modelo aqui."
   ]
  },
  {
   "cell_type": "code",
   "execution_count": 1,
   "metadata": {},
   "outputs": [
    {
     "name": "stdout",
     "output_type": "stream",
     "text": [
      "                            OLS Regression Results                            \n",
      "==============================================================================\n",
      "Dep. Variable:                tip_pct   R-squared:                       0.115\n",
      "Model:                            OLS   Adj. R-squared:                  0.111\n",
      "Method:                 Least Squares   F-statistic:                     31.34\n",
      "Date:                Sat, 02 Mar 2024   Prob (F-statistic):           5.85e-08\n",
      "Time:                        01:12:42   Log-Likelihood:                -772.37\n",
      "No. Observations:                 244   AIC:                             1549.\n",
      "Df Residuals:                     242   BIC:                             1556.\n",
      "Df Model:                           1                                         \n",
      "Covariance Type:            nonrobust                                         \n",
      "==============================================================================\n",
      "                 coef    std err          t      P>|t|      [0.025      0.975]\n",
      "------------------------------------------------------------------------------\n",
      "const         20.6766      0.900     22.975      0.000      18.904      22.449\n",
      "total_bill    -0.2323      0.041     -5.599      0.000      -0.314      -0.151\n",
      "==============================================================================\n",
      "Omnibus:                      224.802   Durbin-Watson:                   2.020\n",
      "Prob(Omnibus):                  0.000   Jarque-Bera (JB):             7863.442\n",
      "Skew:                           3.420   Prob(JB):                         0.00\n",
      "Kurtosis:                      29.957   Cond. No.                         53.0\n",
      "==============================================================================\n",
      "\n",
      "Notes:\n",
      "[1] Standard Errors assume that the covariance matrix of the errors is correctly specified.\n"
     ]
    }
   ],
   "source": [
    "# Importar pacotes\n",
    "import seaborn as sns\n",
    "import statsmodels.api as sm\n",
    "\n",
    "# Carregar a base de gorjetas (usando o conjunto de dados 'tips' do Seaborn)\n",
    "tips = sns.load_dataset(\"tips\")\n",
    "\n",
    "# Criar a variável tip_pct\n",
    "tips['tip_pct'] = tips['tip'] / tips['total_bill'] * 100\n",
    "\n",
    "# Criar variáveis\n",
    "X_pct = sm.add_constant(tips['total_bill'])\n",
    "y_pct = tips['tip_pct']\n",
    "\n",
    "# Realizar a regressão linear\n",
    "model_pct = sm.OLS(y_pct, X_pct).fit()\n",
    "\n",
    "# Imprimir os resultados da regressão\n",
    "print(model_pct.summary())\n"
   ]
  },
  {
   "cell_type": "markdown",
   "metadata": {},
   "source": [
    "### 2. ajuste o modelo de ```tip_pct``` em função do logaritmo de ```net_bill```."
   ]
  },
  {
   "cell_type": "code",
   "execution_count": 2,
   "metadata": {},
   "outputs": [
    {
     "name": "stdout",
     "output_type": "stream",
     "text": [
      "                            OLS Regression Results                            \n",
      "==============================================================================\n",
      "Dep. Variable:                tip_pct   R-squared:                       0.146\n",
      "Model:                            OLS   Adj. R-squared:                  0.143\n",
      "Method:                 Least Squares   F-statistic:                     41.48\n",
      "Date:                Sat, 02 Mar 2024   Prob (F-statistic):           6.37e-10\n",
      "Time:                        01:12:57   Log-Likelihood:                -767.93\n",
      "No. Observations:                 244   AIC:                             1540.\n",
      "Df Residuals:                     242   BIC:                             1547.\n",
      "Df Model:                           1                                         \n",
      "Covariance Type:            nonrobust                                         \n",
      "================================================================================\n",
      "                   coef    std err          t      P>|t|      [0.025      0.975]\n",
      "--------------------------------------------------------------------------------\n",
      "const           31.4649      2.416     13.023      0.000      26.706      36.224\n",
      "log_net_bill    -5.3228      0.827     -6.440      0.000      -6.951      -3.695\n",
      "==============================================================================\n",
      "Omnibus:                      213.983   Durbin-Watson:                   2.039\n",
      "Prob(Omnibus):                  0.000   Jarque-Bera (JB):             6639.421\n",
      "Skew:                           3.207   Prob(JB):                         0.00\n",
      "Kurtosis:                      27.737   Cond. No.                         21.7\n",
      "==============================================================================\n",
      "\n",
      "Notes:\n",
      "[1] Standard Errors assume that the covariance matrix of the errors is correctly specified.\n"
     ]
    }
   ],
   "source": [
    "# Importar pacotes\n",
    "import seaborn as sns\n",
    "import statsmodels.api as sm\n",
    "import numpy as np\n",
    "\n",
    "# Carregar a base de gorjetas (usando o conjunto de dados 'tips' do Seaborn)\n",
    "tips = sns.load_dataset(\"tips\")\n",
    "\n",
    "# Criar a variável tip_pct\n",
    "tips['tip_pct'] = tips['tip'] / tips['total_bill'] * 100\n",
    "\n",
    "# Criar a variável log(net_bill)\n",
    "tips['log_net_bill'] = np.log(tips['total_bill'])\n",
    "\n",
    "# Criar variáveis\n",
    "X_log_net_bill = sm.add_constant(tips['log_net_bill'])\n",
    "y_pct = tips['tip_pct']\n",
    "\n",
    "# Realizar a regressão linear\n",
    "model_log_net_bill = sm.OLS(y_pct, X_log_net_bill).fit()\n",
    "\n",
    "# Imprimir os resultados da regressão\n",
    "print(model_log_net_bill.summary())\n"
   ]
  },
  {
   "cell_type": "markdown",
   "metadata": {},
   "source": [
    "###  3. ajuste o modelo de ```tip_pct``` em função de um polinômio de segundo grau em ```net_bill```."
   ]
  },
  {
   "cell_type": "code",
   "execution_count": 3,
   "metadata": {},
   "outputs": [
    {
     "name": "stdout",
     "output_type": "stream",
     "text": [
      "                            OLS Regression Results                            \n",
      "==============================================================================\n",
      "Dep. Variable:                tip_pct   R-squared:                       0.140\n",
      "Model:                            OLS   Adj. R-squared:                  0.133\n",
      "Method:                 Least Squares   F-statistic:                     19.65\n",
      "Date:                Sat, 02 Mar 2024   Prob (F-statistic):           1.24e-08\n",
      "Time:                        01:13:11   Log-Likelihood:                -768.80\n",
      "No. Observations:                 244   AIC:                             1544.\n",
      "Df Residuals:                     241   BIC:                             1554.\n",
      "Df Model:                           2                                         \n",
      "Covariance Type:            nonrobust                                         \n",
      "====================================================================================\n",
      "                       coef    std err          t      P>|t|      [0.025      0.975]\n",
      "------------------------------------------------------------------------------------\n",
      "const               25.2463      1.925     13.113      0.000      21.454      29.039\n",
      "total_bill          -0.6761      0.171     -3.957      0.000      -1.013      -0.340\n",
      "net_bill_squared     0.0090      0.003      2.676      0.008       0.002       0.016\n",
      "==============================================================================\n",
      "Omnibus:                      213.171   Durbin-Watson:                   2.072\n",
      "Prob(Omnibus):                  0.000   Jarque-Bera (JB):             6542.764\n",
      "Skew:                           3.192   Prob(JB):                         0.00\n",
      "Kurtosis:                      27.552   Cond. No.                     3.47e+03\n",
      "==============================================================================\n",
      "\n",
      "Notes:\n",
      "[1] Standard Errors assume that the covariance matrix of the errors is correctly specified.\n",
      "[2] The condition number is large, 3.47e+03. This might indicate that there are\n",
      "strong multicollinearity or other numerical problems.\n"
     ]
    }
   ],
   "source": [
    "# Importar pacotes\n",
    "import seaborn as sns\n",
    "import statsmodels.api as sm\n",
    "import numpy as np\n",
    "\n",
    "# Carregar a base de gorjetas (usando o conjunto de dados 'tips' do Seaborn)\n",
    "tips = sns.load_dataset(\"tips\")\n",
    "\n",
    "# Criar a variável tip_pct\n",
    "tips['tip_pct'] = tips['tip'] / tips['total_bill'] * 100\n",
    "\n",
    "# Criar variáveis\n",
    "tips['net_bill_squared'] = tips['total_bill'] ** 2  # Variável para o termo quadrático\n",
    "X_poly = sm.add_constant(tips[['total_bill', 'net_bill_squared']])\n",
    "y_pct = tips['tip_pct']\n",
    "\n",
    "# Realizar a regressão polinomial de segundo grau\n",
    "model_poly = sm.OLS(y_pct, X_poly).fit()\n",
    "\n",
    "# Imprimir os resultados da regressão\n",
    "print(model_poly.summary())\n"
   ]
  },
  {
   "cell_type": "markdown",
   "metadata": {},
   "source": [
    "###  4. ajuste um modelo no log do ```tip_pct``` em função de ```net_bill```. Calcule o $R^2$ também em ```tip_pct```"
   ]
  },
  {
   "cell_type": "code",
   "execution_count": 4,
   "metadata": {},
   "outputs": [
    {
     "name": "stdout",
     "output_type": "stream",
     "text": [
      "                            OLS Regression Results                            \n",
      "==============================================================================\n",
      "Dep. Variable:            log_tip_pct   R-squared:                       0.150\n",
      "Model:                            OLS   Adj. R-squared:                  0.147\n",
      "Method:                 Least Squares   F-statistic:                     42.85\n",
      "Date:                Sat, 02 Mar 2024   Prob (F-statistic):           3.50e-10\n",
      "Time:                        01:13:29   Log-Likelihood:                -69.853\n",
      "No. Observations:                 244   AIC:                             143.7\n",
      "Df Residuals:                     242   BIC:                             150.7\n",
      "Df Model:                           1                                         \n",
      "Covariance Type:            nonrobust                                         \n",
      "==============================================================================\n",
      "                 coef    std err          t      P>|t|      [0.025      0.975]\n",
      "------------------------------------------------------------------------------\n",
      "const          3.0193      0.051     59.717      0.000       2.920       3.119\n",
      "total_bill    -0.0153      0.002     -6.546      0.000      -0.020      -0.011\n",
      "==============================================================================\n",
      "Omnibus:                       14.130   Durbin-Watson:                   1.948\n",
      "Prob(Omnibus):                  0.001   Jarque-Bera (JB):               32.613\n",
      "Skew:                          -0.179   Prob(JB):                     8.28e-08\n",
      "Kurtosis:                       4.755   Cond. No.                         53.0\n",
      "==============================================================================\n",
      "\n",
      "Notes:\n",
      "[1] Standard Errors assume that the covariance matrix of the errors is correctly specified.\n",
      "R² do modelo no logaritmo de tip_pct: 0.1504376922684061\n"
     ]
    }
   ],
   "source": [
    "# Importar pacotes\n",
    "import seaborn as sns\n",
    "import statsmodels.api as sm\n",
    "import numpy as np\n",
    "\n",
    "# Carregar a base de gorjetas (usando o conjunto de dados 'tips' do Seaborn)\n",
    "tips = sns.load_dataset(\"tips\")\n",
    "\n",
    "# Criar a variável tip_pct e o logaritmo de tip_pct\n",
    "tips['tip_pct'] = tips['tip'] / tips['total_bill'] * 100\n",
    "tips['log_tip_pct'] = np.log(tips['tip_pct'])\n",
    "\n",
    "# Criar variáveis\n",
    "X_log_net_bill = sm.add_constant(tips['total_bill'])\n",
    "y_log_tip_pct = tips['log_tip_pct']\n",
    "\n",
    "# Realizar a regressão linear no logaritmo de tip_pct em função de net_bill\n",
    "model_log_tip_pct = sm.OLS(y_log_tip_pct, X_log_net_bill).fit()\n",
    "\n",
    "# Calcular o R² para o modelo no logaritmo de tip_pct\n",
    "r_squared_log_tip_pct = model_log_tip_pct.rsquared\n",
    "\n",
    "# Imprimir os resultados da regressão e o R²\n",
    "print(model_log_tip_pct.summary())\n",
    "print(f\"R² do modelo no logaritmo de tip_pct: {r_squared_log_tip_pct}\")\n"
   ]
  },
  {
   "cell_type": "markdown",
   "metadata": {},
   "source": [
    "###  5. ajuste um modelo no log do ```tip_pct``` em função do log de ```net_bill```. Calcule o $R^2$ também em ```tip_pct```."
   ]
  },
  {
   "cell_type": "code",
   "execution_count": 5,
   "metadata": {},
   "outputs": [
    {
     "name": "stdout",
     "output_type": "stream",
     "text": [
      "                            OLS Regression Results                            \n",
      "==============================================================================\n",
      "Dep. Variable:            log_tip_pct   R-squared:                       0.165\n",
      "Model:                            OLS   Adj. R-squared:                  0.162\n",
      "Method:                 Least Squares   F-statistic:                     47.98\n",
      "Date:                Sat, 02 Mar 2024   Prob (F-statistic):           3.86e-11\n",
      "Time:                        01:13:42   Log-Likelihood:                -67.677\n",
      "No. Observations:                 244   AIC:                             139.4\n",
      "Df Residuals:                     242   BIC:                             146.3\n",
      "Df Model:                           1                                         \n",
      "Covariance Type:            nonrobust                                         \n",
      "================================================================================\n",
      "                   coef    std err          t      P>|t|      [0.025      0.975]\n",
      "--------------------------------------------------------------------------------\n",
      "const            3.6557      0.137     26.683      0.000       3.386       3.926\n",
      "log_net_bill    -0.3246      0.047     -6.927      0.000      -0.417      -0.232\n",
      "==============================================================================\n",
      "Omnibus:                       12.549   Durbin-Watson:                   1.979\n",
      "Prob(Omnibus):                  0.002   Jarque-Bera (JB):               22.297\n",
      "Skew:                          -0.263   Prob(JB):                     1.44e-05\n",
      "Kurtosis:                       4.385   Cond. No.                         21.7\n",
      "==============================================================================\n",
      "\n",
      "Notes:\n",
      "[1] Standard Errors assume that the covariance matrix of the errors is correctly specified.\n",
      "R² do modelo no logaritmo de tip_pct: 0.16545996618075254\n"
     ]
    }
   ],
   "source": [
    "# Importar pacotes\n",
    "import seaborn as sns\n",
    "import statsmodels.api as sm\n",
    "import numpy as np\n",
    "\n",
    "# Carregar a base de gorjetas (usando o conjunto de dados 'tips' do Seaborn)\n",
    "tips = sns.load_dataset(\"tips\")\n",
    "\n",
    "# Criar a variável tip_pct e os logaritmos de tip_pct e net_bill\n",
    "tips['tip_pct'] = tips['tip'] / tips['total_bill'] * 100\n",
    "tips['log_tip_pct'] = np.log(tips['tip_pct'])\n",
    "tips['log_net_bill'] = np.log(tips['total_bill'])\n",
    "\n",
    "# Criar variáveis\n",
    "X_log_net_bill = sm.add_constant(tips['log_net_bill'])\n",
    "y_log_tip_pct = tips['log_tip_pct']\n",
    "\n",
    "# Realizar a regressão linear no logaritmo de tip_pct em função do logaritmo de net_bill\n",
    "model_log_tip_pct = sm.OLS(y_log_tip_pct, X_log_net_bill).fit()\n",
    "\n",
    "# Calcular o R² para o modelo no logaritmo de tip_pct\n",
    "r_squared_log_tip_pct = model_log_tip_pct.rsquared\n",
    "\n",
    "# Imprimir os resultados da regressão e o R²\n",
    "print(model_log_tip_pct.summary())\n",
    "print(f\"R² do modelo no logaritmo de tip_pct: {r_squared_log_tip_pct}\")\n"
   ]
  },
  {
   "cell_type": "markdown",
   "metadata": {},
   "source": [
    "###  6. qual modelo resultou no melhor ajuste?"
   ]
  },
  {
   "cell_type": "markdown",
   "metadata": {},
   "source": [
    "- Se o critério principal é determinar o melhor ajuste, então o modelo com o maior coeficiente de determinação (R²) geralmente seria considerado o melhor ajuste. O R² é uma medida que indica a proporção da variabilidade da variável de resposta que é explicada pelos preditores do modelo.\n",
    "\n",
    "- Portanto, para escolher o modelo que proporcionou o melhor ajuste entre os que foram ajustados, basta comparar os R² de cada modelo. O modelo com o R² mais alto seria considerado o mais eficaz em explicar a variabilidade dos dados em relação aos preditores escolhidos."
   ]
  },
  {
   "cell_type": "code",
   "execution_count": null,
   "metadata": {},
   "outputs": [],
   "source": []
  }
 ],
 "metadata": {
  "kernelspec": {
   "display_name": "Python 3 (ipykernel)",
   "language": "python",
   "name": "python3"
  },
  "language_info": {
   "codemirror_mode": {
    "name": "ipython",
    "version": 3
   },
   "file_extension": ".py",
   "mimetype": "text/x-python",
   "name": "python",
   "nbconvert_exporter": "python",
   "pygments_lexer": "ipython3",
   "version": "3.11.5"
  }
 },
 "nbformat": 4,
 "nbformat_minor": 4
}
