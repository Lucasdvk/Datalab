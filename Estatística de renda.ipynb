{
 "cells": [
  {
   "cell_type": "markdown",
   "metadata": {},
   "source": [
    "# Módulo 10 tarefa 2\n",
    "\n",
    "Considere a mesma base de dados utilizada na tarefa 1 ```previsao_de_renda.csv```."
   ]
  },
  {
   "cell_type": "markdown",
   "metadata": {},
   "source": [
    "1) Com o que você viu em aula, faça uma análise das variáveis qualitativas (posse de imóvel e posse de veículo) para verificar se são boas preditoras de *renda*. Alguma delas parece discriminar *renda* de forma estatisticamente significante?"
   ]
  },
  {
   "cell_type": "code",
   "execution_count": 3,
   "metadata": {
    "tags": []
   },
   "outputs": [
    {
     "name": "stdout",
     "output_type": "stream",
     "text": [
      "Teste t para Posse de Imóvel - Estatística t: 3.68, Valor p: 0.0002\n",
      "Teste t para Posse de Veículo - Estatística t: 7.71, Valor p: 0.0000\n"
     ]
    }
   ],
   "source": [
    "import pandas as pd\n",
    "import matplotlib.pyplot as plt\n",
    "import seaborn as sns\n",
    "\n",
    "%matplotlib inline\n",
    "\n",
    "df = pd.read_csv('./previsao_de_renda.csv')\n",
    "\n",
    "from scipy.stats import ttest_ind\n",
    "\n",
    "# Dividir o DataFrame em dois grupos: com e sem posse de imóvel\n",
    "com_posse_imovel = df[df['posse_de_imovel'] == True]\n",
    "sem_posse_imovel = df[df['posse_de_imovel'] == False]\n",
    "\n",
    "# Dividir o DataFrame em dois grupos: com e sem posse de veículo\n",
    "com_posse_veiculo = df[df['posse_de_veiculo'] == True]\n",
    "sem_posse_veiculo = df[df['posse_de_veiculo'] == False]\n",
    "\n",
    "# Realizar teste t para comparar médias de renda entre grupos\n",
    "t_stat_imovel, p_value_imovel = ttest_ind(com_posse_imovel['renda'], sem_posse_imovel['renda'], equal_var=False)\n",
    "t_stat_veiculo, p_value_veiculo = ttest_ind(com_posse_veiculo['renda'], sem_posse_veiculo['renda'], equal_var=False)\n",
    "\n",
    "# Exibir resultados\n",
    "print(f'Teste t para Posse de Imóvel - Estatística t: {t_stat_imovel:.2f}, Valor p: {p_value_imovel:.4f}')\n",
    "print(f'Teste t para Posse de Veículo - Estatística t: {t_stat_veiculo:.2f}, Valor p: {p_value_veiculo:.4f}')\n"
   ]
  },
  {
   "cell_type": "markdown",
   "metadata": {},
   "source": [
    "- Ambas as variáveis qualitativas, posse de imóvel e posse de veículo, demonstraram ter uma relação estatisticamente significativa com a variável de renda. Isso significa que há diferenças estatisticamente significativas nas médias de renda entre grupos com e sem posse de imóvel, assim como entre grupos com e sem posse de veículo. Portanto, essas variáveis qualitativas parecem ser boas preditoras da renda."
   ]
  },
  {
   "cell_type": "code",
   "execution_count": null,
   "metadata": {},
   "outputs": [],
   "source": []
  }
 ],
 "metadata": {
  "kernelspec": {
   "display_name": "Python 3 (ipykernel)",
   "language": "python",
   "name": "python3"
  },
  "language_info": {
   "codemirror_mode": {
    "name": "ipython",
    "version": 3
   },
   "file_extension": ".py",
   "mimetype": "text/x-python",
   "name": "python",
   "nbconvert_exporter": "python",
   "pygments_lexer": "ipython3",
   "version": "3.11.5"
  }
 },
 "nbformat": 4,
 "nbformat_minor": 4
}
