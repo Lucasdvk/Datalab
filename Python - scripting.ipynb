{
 "cells": [
  {
   "cell_type": "code",
   "execution_count": 2,
   "id": "08074479-fa2a-4f61-bd20-2132f5b0c0e3",
   "metadata": {},
   "outputs": [],
   "source": [
    "import pandas as pd\n",
    "import numpy as np\n",
    "import matplotlib.pyplot as plt\n",
    "import seaborn as sns\n",
    "\n",
    "%matplotlib inline\n"
   ]
  },
  {
   "cell_type": "code",
   "execution_count": 7,
   "id": "59b2ebcb-1143-4ad0-b291-9abdad490d40",
   "metadata": {},
   "outputs": [
    {
     "name": "stdout",
     "output_type": "stream",
     "text": [
      "Informações sobre o DataFrame resultante:\n",
      "<class 'pandas.core.frame.DataFrame'>\n",
      "RangeIndex: 41401 entries, 0 to 41400\n",
      "Data columns (total 11 columns):\n",
      " #   Column     Non-Null Count  Dtype  \n",
      "---  ------     --------------  -----  \n",
      " 0   IDADEMAE   41401 non-null  int64  \n",
      " 1   SEXO       41393 non-null  object \n",
      " 2   APGAR1     41263 non-null  float64\n",
      " 3   APGAR5     41243 non-null  float64\n",
      " 4   PESO       41401 non-null  int64  \n",
      " 5   CONSULTAS  41401 non-null  int64  \n",
      " 6   DTNASC     41401 non-null  object \n",
      " 7   GESTACAO   39469 non-null  object \n",
      " 8   GRAVIDEZ   41294 non-null  object \n",
      " 9   ESCMAE     40943 non-null  object \n",
      " 10  IDADEPAI   12122 non-null  float64\n",
      "dtypes: float64(3), int64(3), object(5)\n",
      "memory usage: 3.5+ MB\n",
      "None\n",
      "\n",
      "As primeiras linhas do DataFrame resultante:\n",
      "   IDADEMAE       SEXO  APGAR1  APGAR5  PESO  CONSULTAS      DTNASC  \\\n",
      "0        19  Masculino     9.0    10.0  3685          4  2019-02-19   \n",
      "1        29   Feminino     8.0     9.0  3055          4  2019-02-21   \n",
      "2        37   Feminino     8.0    10.0  3460          4  2019-02-25   \n",
      "3        30   Feminino     9.0    10.0  2982          3  2019-03-20   \n",
      "4        30   Feminino     8.0    10.0  3310          4  2019-03-23   \n",
      "\n",
      "          GESTACAO GRAVIDEZ           ESCMAE  IDADEPAI  \n",
      "0  37 a 41 semanas    Única      8 a 11 anos      26.0  \n",
      "1  37 a 41 semanas    Única      8 a 11 anos      24.0  \n",
      "2  37 a 41 semanas    Única      8 a 11 anos      32.0  \n",
      "3  37 a 41 semanas    Única  12 anos ou mais      24.0  \n",
      "4  37 a 41 semanas    Única      8 a 11 anos      27.0  \n",
      "\n",
      "DataFrame resultante foi salvo em 'dados_completos.csv'\n"
     ]
    }
   ],
   "source": [
    "\n",
    "\n",
    "# Lista dos nomes dos arquivos CSV para os meses especificados\n",
    "nomes_arquivos = ['SINASC_RO_2019_MAR.csv', 'SINASC_RO_2019_ABR.csv', 'SINASC_RO_2019_MAI.csv', 'SINASC_RO_2019_JUN.csv']\n",
    "\n",
    "# Lista para armazenar os DataFrames de cada mês\n",
    "dfs = []\n",
    "\n",
    "# Carregar cada arquivo CSV e adicioná-lo à lista de DataFrames\n",
    "for nome_arquivo in nomes_arquivos:\n",
    "    df = pd.read_csv(nome_arquivo)\n",
    "    dfs.append(df)\n",
    "\n",
    "# Concatenar os DataFrames em um único DataFrame\n",
    "dados = pd.concat(dfs, ignore_index=True)\n",
    "\n",
    "# Exibir informações sobre o DataFrame resultante\n",
    "print(\"Informações sobre o DataFrame resultante:\")\n",
    "print(dados.info())\n",
    "\n",
    "# Exibir as primeiras linhas do DataFrame resultante\n",
    "print(\"\\nAs primeiras linhas do DataFrame resultante:\")\n",
    "print(dados.head())\n",
    "\n",
    "# Salvar o DataFrame resultante em um novo arquivo CSV\n",
    "dados.to_csv('dados_completos.csv', index=False)\n",
    "\n",
    "print(\"\\nDataFrame resultante foi salvo em 'dados_completos.csv'\")\n"
   ]
  },
  {
   "cell_type": "code",
   "execution_count": 17,
   "id": "320e1326-c208-4aef-b3d8-98d92988374a",
   "metadata": {},
   "outputs": [],
   "source": [
    "## Automatizando os dados\n",
    "\n",
    "\n",
    "def gerar_estatisticas_resumidas_para_meses_e_anos(nomes_arquivos, colunas_interesse, meses, anos):\n",
    "    dfs = []\n",
    "    \n",
    "    for nome_arquivo in nomes_arquivos:\n",
    "        df = pd.read_csv(nome_arquivo)\n",
    "        dfs.append(df)\n",
    "    \n",
    "    dados = pd.concat(dfs, ignore_index=True)\n",
    "    \n",
    "    for ano in anos:\n",
    "        for mes in meses:\n",
    "            dados_selecionados = dados[(dados['DTNASC'].str.contains(mes, case=False)) & (dados['DTNASC'].str.contains(str(ano)))]\n",
    "            if not dados_selecionados.empty:\n",
    "                print(f\"\\nEstatísticas resumidas para o mês de {mes.capitalize()} de {ano}:\")\n",
    "                for coluna in colunas_interesse:\n",
    "                    print(f\"\\nEstatísticas para a variável '{coluna}':\")\n",
    "                    print(dados_selecionados[coluna].describe())\n",
    "\n",
    "# Exemplo de utilização da função para gerar estatísticas resumidas para os meses e anos seguintes\n",
    "nomes_arquivos = ['SINASC_RO_2019_MAR.csv', 'SINASC_RO_2019_ABR.csv', 'SINASC_RO_2019_MAI.csv', 'SINASC_RO_2019_JUN.csv']\n",
    "colunas_interesse = ['IDADEMAE', 'SEXO', 'APGAR1', 'APGAR5', 'PESO', 'CONSULTAS', 'GESTACAO']\n",
    "meses_interesse = ['fevereiro', 'março', 'abril', 'maio', 'junho', 'dezembro']\n",
    "anos_interesse = [2019]\n",
    "\n",
    "gerar_estatisticas_resumidas_para_meses_e_anos(nomes_arquivos, colunas_interesse, meses_interesse, anos_interesse)\n"
   ]
  }
 ],
 "metadata": {
  "kernelspec": {
   "display_name": "Python 3 (ipykernel)",
   "language": "python",
   "name": "python3"
  },
  "language_info": {
   "codemirror_mode": {
    "name": "ipython",
    "version": 3
   },
   "file_extension": ".py",
   "mimetype": "text/x-python",
   "name": "python",
   "nbconvert_exporter": "python",
   "pygments_lexer": "ipython3",
   "version": "3.11.5"
  }
 },
 "nbformat": 4,
 "nbformat_minor": 5
}
